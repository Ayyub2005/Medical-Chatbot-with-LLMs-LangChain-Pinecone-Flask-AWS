{
 "cells": [
  {
   "cell_type": "code",
   "execution_count": null,
   "id": "ff5d95bf",
   "metadata": {},
   "outputs": [],
   "source": [
    "import os\n",
    "os.chdir(\"../\")"
   ]
  },
  {
   "cell_type": "code",
   "execution_count": null,
   "id": "104b57e7",
   "metadata": {},
   "outputs": [],
   "source": [
    "%pwd"
   ]
  },
  {
   "cell_type": "code",
   "execution_count": null,
   "id": "5d59f938",
   "metadata": {},
   "outputs": [],
   "source": [
    "from langchain.document_loaders import PyPDFLoader,DirectoryLoader\n",
    "from langchain.text_splitter import RecursiveCharacterTextSplitter"
   ]
  },
  {
   "cell_type": "code",
   "execution_count": null,
   "id": "9b7b47d9",
   "metadata": {},
   "outputs": [],
   "source": [
    "#Extract text from PDF files\n",
    "def load_pdf_files(data):\n",
    "    loader = DirectoryLoader(\n",
    "        data,\n",
    "        glob = \"*.pdf\",\n",
    "        loader_cls = PyPDFLoader\n",
    "    )\n",
    "\n",
    "    documents = loader.load()\n",
    "    return documents"
   ]
  },
  {
   "cell_type": "code",
   "execution_count": null,
   "id": "364b9ce3",
   "metadata": {},
   "outputs": [],
   "source": [
    "extract_text = load_pdf_files(\"data\")"
   ]
  },
  {
   "cell_type": "code",
   "execution_count": null,
   "id": "7ccf19f8",
   "metadata": {},
   "outputs": [],
   "source": [
    "extract_text"
   ]
  },
  {
   "cell_type": "code",
   "execution_count": null,
   "id": "ef20cba0",
   "metadata": {},
   "outputs": [],
   "source": [
    "len(extract_text)"
   ]
  },
  {
   "cell_type": "code",
   "execution_count": null,
   "id": "da7d95c3",
   "metadata": {},
   "outputs": [],
   "source": [
    "from typing import List\n",
    "\n",
    "# Works across LangChain versions\n",
    "try:\n",
    "    from langchain.schema import Document  # older path\n",
    "except ImportError:\n",
    "    from langchain_core.documents import Document  # newer path\n",
    "\n",
    "\n",
    "def filter_to_minimal_doc(docs: List[Document]) -> List[Document]:\n",
    "    \"\"\"\n",
    "    Given a list of Document objects, return a new list of Documents\n",
    "    containing only the original page_content and minimal metadata:\n",
    "      - 'source'\n",
    "      - 'author' (if available: from 'author')\n",
    "      - 'page' (if available: from 'page', 'page_number', or 'loc.page_number')\n",
    "    \"\"\"\n",
    "    minimal_docs: List[Document] = []\n",
    "    for doc in docs:\n",
    "        meta_in = doc.metadata or {}\n",
    "\n",
    "        # Extract source if present\n",
    "        source = meta_in.get(\"source\")\n",
    "\n",
    "        # Extract author if present\n",
    "        author = meta_in.get(\"author\")\n",
    "\n",
    "        # Extract page from several common patterns\n",
    "        page = None\n",
    "        if \"page\" in meta_in:\n",
    "            page = meta_in[\"page\"]\n",
    "        elif \"page_number\" in meta_in:\n",
    "            page = meta_in[\"page_number\"]\n",
    "        elif isinstance(meta_in.get(\"loc\"), dict) and \"page_number\" in meta_in[\"loc\"]:\n",
    "            page = meta_in[\"loc\"][\"page_number\"]\n",
    "\n",
    "        # Build minimal metadata dict (omit missing keys)\n",
    "        meta_out = {}\n",
    "        if source is not None:\n",
    "            meta_out[\"source\"] = source\n",
    "        if author is not None:\n",
    "            meta_out[\"author\"] = author\n",
    "        if page is not None:\n",
    "            meta_out[\"page\"] = page\n",
    "\n",
    "        minimal_docs.append(\n",
    "            Document(\n",
    "                page_content=doc.page_content,\n",
    "                metadata=meta_out,\n",
    "            )\n",
    "        )\n",
    "    return minimal_docs"
   ]
  },
  {
   "cell_type": "code",
   "execution_count": null,
   "id": "b5f0d304",
   "metadata": {},
   "outputs": [],
   "source": [
    "minimal_docs = filter_to_minimal_doc(extract_text)"
   ]
  },
  {
   "cell_type": "code",
   "execution_count": null,
   "id": "88b62c1c",
   "metadata": {},
   "outputs": [],
   "source": [
    "minimal_docs"
   ]
  },
  {
   "cell_type": "code",
   "execution_count": null,
   "id": "5724126c",
   "metadata": {},
   "outputs": [],
   "source": [
    "#split the documents into smaller chunks\n",
    "def text_split(minimal_docs):\n",
    "    text_splitter = RecursiveCharacterTextSplitter(\n",
    "        chunk_size = 500,\n",
    "        chunk_overlap = 20,\n",
    "    )\n",
    "    texts_chunk = text_splitter.split_documents(minimal_docs)\n",
    "    return texts_chunk"
   ]
  },
  {
   "cell_type": "code",
   "execution_count": null,
   "id": "70437c15",
   "metadata": {},
   "outputs": [],
   "source": [
    "texts_chunk = text_split(minimal_docs)"
   ]
  },
  {
   "cell_type": "code",
   "execution_count": null,
   "id": "67a767f8",
   "metadata": {},
   "outputs": [],
   "source": [
    "len(texts_chunk)"
   ]
  },
  {
   "cell_type": "code",
   "execution_count": null,
   "id": "0b72a683",
   "metadata": {},
   "outputs": [],
   "source": [
    "from langchain.embeddings import HuggingFaceEmbeddings\n",
    "\n",
    "def download_embeddings():\n",
    "    \"\"\"\n",
    "    Download and Return HuggingFace Embeddings Model\n",
    "    \"\"\"\n",
    "    model_name = \"sentence-transformers/all-MiniLM-L6-v2\"\n",
    "    embeddings = HuggingFaceEmbeddings(\n",
    "        model_name=model_name,\n",
    "    )   \n",
    "    return embeddings\n",
    "\n",
    "embedding = download_embeddings()\n"
   ]
  },
  {
   "cell_type": "code",
   "execution_count": null,
   "id": "ed9da735",
   "metadata": {},
   "outputs": [],
   "source": [
    "embedding"
   ]
  },
  {
   "cell_type": "code",
   "execution_count": null,
   "id": "849d396a",
   "metadata": {},
   "outputs": [],
   "source": [
    "vector = embedding.embed_query(\"Hello world\")"
   ]
  },
  {
   "cell_type": "code",
   "execution_count": null,
   "id": "c4abebb8",
   "metadata": {},
   "outputs": [],
   "source": [
    "vector"
   ]
  },
  {
   "cell_type": "code",
   "execution_count": null,
   "id": "ae202dfd",
   "metadata": {},
   "outputs": [],
   "source": [
    "print(len(vector))"
   ]
  },
  {
   "cell_type": "code",
   "execution_count": null,
   "id": "4ac5859f",
   "metadata": {},
   "outputs": [],
   "source": [
    "from dotenv import load_dotenv\n",
    "import os\n",
    "load_dotenv()"
   ]
  },
  {
   "cell_type": "code",
   "execution_count": null,
   "id": "98f8be08",
   "metadata": {},
   "outputs": [],
   "source": [
    "PINECONE_API_KEY = os.getenv(\"PINECONE_API_KEY\")\n",
    "OPENAI_API_KEY = os.getenv(\"OPENAI_API_KEY\")\n",
    "\n",
    "os.environ[\"PINECONE_API_KEY\"] = PINECONE_API_KEY\n",
    "os.environ[\"OPENAI_API_KEY\"] = OPENAI_API_KEY"
   ]
  },
  {
   "cell_type": "code",
   "execution_count": null,
   "id": "a5e0bfda",
   "metadata": {},
   "outputs": [],
   "source": [
    "from pinecone import Pinecone\n",
    "pinecone_api_key = PINECONE_API_KEY\n",
    "\n",
    "pc = Pinecone(api_key=pinecone_api_key)"
   ]
  },
  {
   "cell_type": "code",
   "execution_count": null,
   "id": "ef2cf926",
   "metadata": {},
   "outputs": [],
   "source": [
    "pc"
   ]
  },
  {
   "cell_type": "code",
   "execution_count": null,
   "id": "3e3a93ed",
   "metadata": {},
   "outputs": [],
   "source": [
    "from pinecone import ServerlessSpec\n",
    "\n",
    "index_name = \"medical-chatbot\"\n",
    "\n",
    "if not pc.has_index(index_name):\n",
    "    pc.create_index(\n",
    "        name = index_name,\n",
    "        dimension = 384,#Dimension of the embedding vector\n",
    "        metric=\"cosine\", #Cosine similarity requires fixed-length vectors\n",
    "        spec = ServerlessSpec(cloud=\"aws\", region=\"us-east-1\")\n",
    "    )\n",
    "\n",
    "index = pc.Index(index_name)"
   ]
  },
  {
   "cell_type": "code",
   "execution_count": null,
   "id": "2826e70b",
   "metadata": {},
   "outputs": [],
   "source": [
    "from langchain_pinecone import PineconeVectorStore\n",
    "\n",
    "docsearch = PineconeVectorStore.from_documents(\n",
    "    documents = texts_chunk,\n",
    "    embedding = embedding,\n",
    "    index_name = index_name,\n",
    ")"
   ]
  },
  {
   "cell_type": "code",
   "execution_count": null,
   "id": "dd475fd8",
   "metadata": {},
   "outputs": [],
   "source": [
    "#Load existing index\n",
    "\n",
    "from langchain_pinecone import PineconeVectorStore\n",
    "#Embed each chunck and upsert the embeddings to Pinecone index\n",
    "docsearch = PineconeVectorStore.from_existing_index(\n",
    "    embedding = embedding,\n",
    "    index_name = index_name,\n",
    ")\n"
   ]
  },
  {
   "cell_type": "markdown",
   "id": "65f478a6",
   "metadata": {},
   "source": [
    "Add more data to existing PineCone index"
   ]
  },
  {
   "cell_type": "code",
   "execution_count": null,
   "id": "b6465d4b",
   "metadata": {},
   "outputs": [],
   "source": [
    "dswith = Document(\n",
    "    page_content=\"This is a new document to add to the existing index.\", \n",
    "    metadata={\"source\": \"YouTube\"}\n",
    ")"
   ]
  },
  {
   "cell_type": "code",
   "execution_count": null,
   "id": "7d6a52fb",
   "metadata": {},
   "outputs": [],
   "source": [
    "docsearch.add_documents([dswith]) "
   ]
  },
  {
   "cell_type": "code",
   "execution_count": null,
   "id": "e2f7cb00",
   "metadata": {},
   "outputs": [],
   "source": [
    "retriever = docsearch.as_retriever(search_type=\"similarity\", search_kwargs={\"k\":3})"
   ]
  },
  {
   "cell_type": "code",
   "execution_count": null,
   "id": "0cf33feb",
   "metadata": {},
   "outputs": [],
   "source": [
    "retrieved_docs = retriever.invoke(\"What is Ayurveda?\")\n",
    "retrieved_docs"
   ]
  },
  {
   "cell_type": "code",
   "execution_count": null,
   "id": "91df43da",
   "metadata": {},
   "outputs": [],
   "source": [
    "from langchain_openai import ChatOpenAI\n",
    "\n",
    "chatModel = ChatOpenAI(model_name=\"gpt-4o\")"
   ]
  },
  {
   "cell_type": "code",
   "execution_count": null,
   "id": "166a4a61",
   "metadata": {},
   "outputs": [],
   "source": [
    "from langchain.chains import create_retrieval_chain\n",
    "from langchain.chains.combine_documents import create_stuff_documents_chain\n",
    "from langchain_core.prompts import ChatPromptTemplate"
   ]
  },
  {
   "cell_type": "code",
   "execution_count": null,
   "id": "55b660c7",
   "metadata": {},
   "outputs": [],
   "source": [
    "system_prompt = (\n",
    "    \"**CRITICAL CORE DIRECTIVE:** You **MUST** base your entire answer **exclusively** on the text provided in the {context}. \"\n",
    "    \"You **MUST NOT** use any outside knowledge, personal opinions, or information from your general training. \"\n",
    "    \"Every factual statement you make **MUST** be derivable from the provided {context}.\"\n",
    "    \"\\n\\n\"\n",
    "    \"You are 'AyuCare,' an empathetic and concise AI guide for Ayurvedic wellness. \"\n",
    "    \"Your persona is warm, understanding, and supportive. \"\n",
    "    \"Your primary goal is to be an **educational partner**, not a medical authority. \"\n",
    "    \"You are an assistant for Ayurvedic **education**.\"\n",
    "    \"\\n\\n\"\n",
    "    \"**SAFETY GUARDRAILS (NON-NEGOTIABLE):**\\n\"\n",
    "    \"1. **DO NOT DIAGNOSE:** You must **NEVER** say 'You have...' or 'This sounds like...' You must not diagnose.\\n\"\n",
    "    \"1b. **DO NOT PRESCRIBE FROM CASES:** When referencing a validated case, you are describing an *educational example*, not giving the user a prescription. Never tell the user 'You should do what this case did.'\\n\"\n",
    "    \"2. **ALWAYS REFER:** Every single conversation about a health concern **MUST** end with a referral to a certified practitioner.\\n\"\n",
    "    \"3. **STAY IN SCOPE:** If the user's question cannot be answered using *only* the provided {context}, you **MUST** state that you do not have that specific information in your knowledge base. **DO NOT** try to answer from general knowledge.\\n\"\n",
    "    \"4. **SRI LANKAN CONTEXT:** You can mention local Sri Lankan practices **ONLY IF** they are explicitly mentioned in the retrieved {context}.\"\n",
    "    \"\\n\\n\"\n",
    "    \"**Your Interaction Flow:**\\n\"\n",
    "    \"1. **Be Concise:** Your initial answers should be brief and clear (2-3 sentences).\\n\"\n",
    "    \"2. **Acknowledge & Clarify:** When a user expresses a health concern (e.g., 'I have a headache'), be empathetic. (Empathy does not require a citation). Ask gentle, clarifying questions to understand their context.\\n\"\n",
    "    \"3. **Go Deeper on Request:** If the user asks for more detail (e.g., 'tell me more,' 'why?'), use the retrieved {context} to provide a more comprehensive explanation, citing as you go.\\n\"\n",
    "    \"4. **Cite Your Factual Information:** You **MUST** cite the source for any specific factual claim, principle, recipe, or quote you provide using information from the {context}'s metadata. \"\n",
    "    \"Conversational phrases do not require a citation. \"\n",
    "    \"The citation **MUST** follow this exact format: \"\n",
    "    \"**(Source: [Source Title], Author: [Author Name], Page: [Page Number])**. \"\n",
    "    \"If the author or page is not available in the metadata, omit that part from the citation.\\n\"\n",
    "    \n",
    "    \"5. **Use Validated Cases as Examples:** If the retrieved {context} includes an anonymized consultation case where the metadata field 'validated' is True, you can use it as a *general example* to illustrate an Ayurvedic principle. **DO NOT** present this as direct advice to the user. Cite it appropriately (e.g., '(Source: Validated Consultation Case)').\\n\"\n",
    "    \n",
    "    \"6. **Suggest *Potential* Actions (Safely):** You can suggest general, low-risk, traditional actions *only if* they are explicitly mentioned in the retrieved {context}. This is educational advice, **NOT** a prescription. Ensure you cite the source for the suggestion as per rule 4.\\n\"\n",
    "    \"7. **THE CRITICAL RULE:** **Immediately after** suggesting any action or providing information related to a health concern, you **MUST** state in a new paragraph that this is **NOT** medical diagnosis, only educational advice, and that they **MUST** speak to a certified practitioner for a proper diagnosis.\\n\\n\"\n",
    "    \n",
    "    \"This is used in a medical context, so safety is paramount. \"\n",
    "    \"Use the following pieces of retrieved context to answer the question. If you don't know the answer based *only* on the context, say that you \"\n",
    "    \"don't know. Keep your answer concise.\"\n",
    "    \"\\n\\n\"\n",
    "    \"Context:\\n{context}\"\n",
    ")\n",
    "\n",
    "\n",
    "\n",
    "prompt = ChatPromptTemplate.from_messages(\n",
    "    [\n",
    "        (\"system\", system_prompt),\n",
    "        (\"human\", \"{input}\"),\n",
    "    ]\n",
    ")"
   ]
  },
  {
   "cell_type": "code",
   "execution_count": null,
   "id": "762e4ce5",
   "metadata": {},
   "outputs": [],
   "source": [
    "question_answer_chain = create_stuff_documents_chain(chatModel,prompt)\n",
    "rag_chain = create_retrieval_chain(retriever, question_answer_chain)"
   ]
  },
  {
   "cell_type": "code",
   "execution_count": null,
   "id": "dfcada00",
   "metadata": {},
   "outputs": [],
   "source": [
    "response = rag_chain.invoke({\"input\": \"My ankle is swollen what do i do?\"})\n",
    "print(response['answer'])"
   ]
  },
  {
   "cell_type": "code",
   "execution_count": null,
   "id": "1703f615",
   "metadata": {},
   "outputs": [],
   "source": [
    "response = rag_chain.invoke({\"input\": \"What are the main Ayurveda princ to live a healthy life?\"})\n",
    "print(response['answer'])"
   ]
  },
  {
   "cell_type": "code",
   "execution_count": null,
   "id": "5d42ac1e",
   "metadata": {},
   "outputs": [],
   "source": []
  },
  {
   "cell_type": "code",
   "execution_count": null,
   "id": "b2cd66ce",
   "metadata": {},
   "outputs": [],
   "source": []
  },
  {
   "cell_type": "code",
   "execution_count": null,
   "id": "f3eb0a07",
   "metadata": {},
   "outputs": [],
   "source": []
  },
  {
   "cell_type": "code",
   "execution_count": null,
   "id": "ac2ff3b4",
   "metadata": {},
   "outputs": [],
   "source": []
  },
  {
   "cell_type": "code",
   "execution_count": null,
   "id": "f9c4345c",
   "metadata": {},
   "outputs": [],
   "source": []
  }
 ],
 "metadata": {
  "kernelspec": {
   "display_name": "medibot",
   "language": "python",
   "name": "python3"
  },
  "language_info": {
   "codemirror_mode": {
    "name": "ipython",
    "version": 3
   },
   "file_extension": ".py",
   "mimetype": "text/x-python",
   "name": "python",
   "nbconvert_exporter": "python",
   "pygments_lexer": "ipython3",
   "version": "3.13.9"
  }
 },
 "nbformat": 4,
 "nbformat_minor": 5
}
